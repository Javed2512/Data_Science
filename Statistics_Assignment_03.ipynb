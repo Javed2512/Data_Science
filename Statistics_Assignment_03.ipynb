{
 "cells": [
  {
   "cell_type": "code",
   "execution_count": null,
   "id": "d5e8da4a",
   "metadata": {},
   "outputs": [],
   "source": [
    "Q1. What is the Probability density function?\n",
    "\n",
    "Ans) The probability density function (PDF) is a function that describes the relative likelihood of a continuous random\\\n",
    "variable taking a certain value. "
   ]
  },
  {
   "cell_type": "code",
   "execution_count": null,
   "id": "2646ad41",
   "metadata": {},
   "outputs": [],
   "source": [
    "Q2. What are the types of Probability distribution?\n",
    "\n",
    "Ans) There are several Types of Probability Distribution :-\n",
    "\n",
    "    (i)Bernoulli Distribution\n",
    "   (ii)Binomial Distribution\n",
    "  (iii)Poission Distribution\n",
    "   (iv)Normal Distribution\n",
    "    (v)Uniform Distribution"
   ]
  },
  {
   "cell_type": "markdown",
   "id": "d28a396a",
   "metadata": {},
   "source": [
    "#### Q3. Write a Python function to calculate the probability density function of a normal distribution with given mean and standard deviation at a given point."
   ]
  },
  {
   "cell_type": "code",
   "execution_count": 1,
   "id": "cef07bcd",
   "metadata": {},
   "outputs": [],
   "source": [
    "# ANSWER 3)\n",
    "\n",
    "import math\n",
    "\n",
    "def normal_pdf(x, mean, std_dev):\n",
    "    coeff = 1 / (std_dev * math.sqrt(2 * math.pi))\n",
    "    exponent = -0.5 * ((x - mean) / std_dev) ** 2\n",
    "    pdf = coeff * math.exp(exponent)\n",
    "    return pdf"
   ]
  },
  {
   "cell_type": "code",
   "execution_count": 2,
   "id": "5d471fab",
   "metadata": {},
   "outputs": [
    {
     "name": "stdout",
     "output_type": "stream",
     "text": [
      "0.48394144903828673\n"
     ]
    }
   ],
   "source": [
    "pdf_value = normal_pdf(2.5, 3.0, 0.5)\n",
    "print(pdf_value)"
   ]
  },
  {
   "cell_type": "code",
   "execution_count": null,
   "id": "45404672",
   "metadata": {},
   "outputs": [],
   "source": [
    "Q4. What are the properties of Binomial distribution? Give two examples of events where binomial\n",
    "distribution can be applied.\n",
    "\n",
    "Ans) (i) The trials must be independent of each other.\n",
    "    (ii) Each trial must have only two possible outcomes, typically referred to as success and failure.\n",
    "   (iii) The probability of success is constant across all trials.\n",
    "    (iv) The number of trials is fixed.\n",
    "    (v)  The random variable that follows a binomial distribution is discrete and counts the number of successes in the fixed \n",
    "    number of trials.\n",
    "    \n",
    "    Flipping a coin: When flipping a fair coin, the probability of getting heads (success) is 0.5, and the probability getting \n",
    "    tails (failure) is also 0.5.\n",
    "    Manufacturing defects: A manufacturing company produces a large number of products, and a certain percentage of them are\n",
    "    defective. "
   ]
  },
  {
   "cell_type": "markdown",
   "id": "f6911085",
   "metadata": {},
   "source": [
    "#### Q5. Generate a random sample of size 1000 from a binomial distribution with probability of success 0.4 and plot a histogram of the results using matplotlib."
   ]
  },
  {
   "cell_type": "code",
   "execution_count": 5,
   "id": "1f283a03",
   "metadata": {},
   "outputs": [
    {
     "data": {
      "image/png": "[encoded data removed]",
      "text/plain": [
       "<Figure size 432x288 with 1 Axes>"
      ]
     },
     "metadata": {
      "needs_background": "light"
     },
     "output_type": "display_data"
    }
   ],
   "source": [
    "import numpy as np\n",
    "import matplotlib.pyplot as plt\n",
    "\n",
    "# Set the parameters for the binomial distribution\n",
    "n = 1  \n",
    "p = 0.4  \n",
    "\n",
    "# Generate a random sample of size 1000 from the binomial distribution\n",
    "sample = np.random.binomial(n, p, 1000)\n",
    "\n",
    "# Plot a histogram of the sample using matplotlib\n",
    "plt.hist(sample, bins=range(n+2))\n",
    "\n",
    "# Set the x-axis label and title of the histogram\n",
    "plt.xlabel('Number of successes')\n",
    "plt.title('Histogram of binomial distribution with n=1, p=0.4')\n",
    "plt.show()"
   ]
  },
  {
   "cell_type": "markdown",
   "id": "52ac2725",
   "metadata": {},
   "source": [
    "#### Q6.Write a Python function to calculate the cumulative distribution function of a Poisson distribution with given mean at a given point."
   ]
  },
  {
   "cell_type": "code",
   "execution_count": 6,
   "id": "81b54485",
   "metadata": {},
   "outputs": [],
   "source": [
    "import math\n",
    "\n",
    "def poisson_cdf(mean, k):\n",
    "    cdf = 0\n",
    "    for i in range(k+1):\n",
    "        cdf += (mean**i) / (math.factorial(i))\n",
    "    cdf *= math.exp(-mean)\n",
    "    return cdf"
   ]
  },
  {
   "cell_type": "code",
   "execution_count": 7,
   "id": "84c5cce5",
   "metadata": {},
   "outputs": [
    {
     "name": "stdout",
     "output_type": "stream",
     "text": [
      "CDF at k=2 for Poisson distribution with mean=3.5: 0.3208\n"
     ]
    }
   ],
   "source": [
    "mean = 3.5\n",
    "k = 2\n",
    "cdf = poisson_cdf(mean, k)\n",
    "print(f\"CDF at k={k} for Poisson distribution with mean={mean}: {cdf:.4f}\")"
   ]
  },
  {
   "cell_type": "code",
   "execution_count": null,
   "id": "5006d23b",
   "metadata": {},
   "outputs": [],
   "source": [
    "Q7. How Binomial distribution different from Poisson distribution?\n",
    "\n",
    "Ans) The binomial distribution is used to model the probability of a certain number of successes in a fixed number of trials, \n",
    "while the Poisson distribution is used to model the probability of a certain number of events occurring in a fixed interval \n",
    "of time or space."
   ]
  },
  {
   "cell_type": "raw",
   "id": "3f1212c4",
   "metadata": {},
   "source": [
    "Q8. Generate a random sample of size 1000 from a Poisson distribution with mean 5 and calculate the\n",
    "sample mean and variance."
   ]
  },
  {
   "cell_type": "code",
   "execution_count": 11,
   "id": "6eeb0367",
   "metadata": {},
   "outputs": [
    {
     "name": "stdout",
     "output_type": "stream",
     "text": [
      "Sample mean: 4.919\n",
      "Sample variance: 5.030439\n"
     ]
    }
   ],
   "source": [
    "import numpy as np\n",
    "\n",
    "# set the random seed for reproducibility\n",
    "np.random.seed(123)\n",
    "\n",
    "# generate the random sample\n",
    "sample = np.random.poisson(lam=5, size=1000)\n",
    "\n",
    "# calculate the sample mean and variance\n",
    "sample_mean = np.mean(sample)\n",
    "sample_var = np.var(sample) \n",
    "\n",
    "print(\"Sample mean:\", sample_mean)\n",
    "print(\"Sample variance:\", sample_var)\n"
   ]
  },
  {
   "cell_type": "code",
   "execution_count": null,
   "id": "2461b834",
   "metadata": {},
   "outputs": [],
   "source": [
    "Q9. How mean and variance are related in Binomial distribution and Poisson distribution?\n",
    "\n",
    "Ans) for the Binomial distribution, the variance is proportional to the mean, while for the Poisson distribution,\n",
    "the variance is equal to the mean."
   ]
  },
  {
   "cell_type": "code",
   "execution_count": null,
   "id": "7a47fb0a",
   "metadata": {},
   "outputs": [],
   "source": [
    "Q10. In normal distribution with respect to mean position, where does the least frequent data appear?\n",
    "\n",
    "Ans) The least frequent data in a normal distribution appear in the regions that are more than three standard deviations away\n",
    "from the mean, either on the left tail or the right tail of the distribution."
   ]
  },
  {
   "cell_type": "code",
   "execution_count": null,
   "id": "8e8bc6f8",
   "metadata": {},
   "outputs": [],
   "source": []
  }
 ],
 "metadata": {
  "kernelspec": {
   "display_name": "Python 3 (ipykernel)",
   "language": "python",
   "name": "python3"
  },
  "language_info": {
   "codemirror_mode": {
    "name": "ipython",
    "version": 3
   },
   "file_extension": ".py",
   "mimetype": "text/x-python",
   "name": "python",
   "nbconvert_exporter": "python",
   "pygments_lexer": "ipython3",
   "version": "3.8.12"
  }
 },
 "nbformat": 4,
 "nbformat_minor": 5
}

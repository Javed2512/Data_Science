{
 "cells": [
  {
   "cell_type": "code",
   "execution_count": null,
   "id": "68d5fa24",
   "metadata": {},
   "outputs": [],
   "source": [
    "Q1: What are the Probability Mass Function (PMF) and Probability Density Function (PDF)? Explain with\n",
    "an example.\n",
    "\n",
    "Ans) (A)PMF is a discrete random variable.\n",
    "        PMF gives the probability that a discrete random variable X takes a particular value x. It is defined as follows:\n",
    "        PMF(X=x) = P(X=x)\n",
    "        For eg:- Rolling a dice {1,2,3,4,5,6}\n",
    "        Pr(1) = Pr(2) = Pr(3) = Pr(4) = Pr(5) = Pr(6) = 1/6\n",
    "        CDF For PMF:-\n",
    "            Pr(x<=2) = Pr(x=1)+Pr(x=2) = 1/6+1/6 = 2/6 \n",
    "       \n",
    "      (B)PDF gives the probability density function for a continuous random variable X. The probability that X takes on a                particular value is given by the area under the PDF curve between two values.\n",
    "         The PDF is defined as follows:\n",
    "                         f(x) = dF(x)/dx\n",
    "         where F(x) is the cumulative distribution function of X.\n",
    "         For eg:-  let's say we have a continuous random variable X representing the height of students in a school.\n",
    "         The PDF for X is a bell-shaped curve called the normal distribution. The PDF is given by:\n",
    "         f(x) = (1/(σ√(2π))) * e^(-((x-μ)^2)/(2σ^2))\n",
    "         where μ is the mean and σ is the standard deviation of the height distribution."
   ]
  },
  {
   "cell_type": "code",
   "execution_count": null,
   "id": "84e7fa74",
   "metadata": {},
   "outputs": [],
   "source": [
    "Q2: What is Cumulative Density Function (CDF)? Explain with an example. Why CDF is used?\n",
    "\n",
    "Ans) The Cumulative Density Function (CDF) is a mathematical function that describes the probability distribution of a random\n",
    "variable X. It gives the probability that X is less than or equal to a certain value x.\n",
    "\n",
    "CDF(x) = P(X ≤ x)\n",
    "\n",
    "The CDF can be used to find the probability that a random variable X takes a value less than or equal to a certain value x.\n",
    "It can also be used to find the probability that X takes a value between two values a and b, by subtracting the CDF at a from\n",
    "the CDF at b:\n",
    "\n",
    "P(a < X ≤ b) = CDF(b) - CDF(a)\n",
    "\n",
    "For example, let's say we have a random variable X representing the number of defective items in a batch of 1000.\n",
    "The probability distribution of X is given by the binomial distribution with n=1000 and p=0.05 (assuming a 5% defect rate). \n",
    "The CDF for X is:\n",
    "\n",
    "CDF(x) = ∑(k=0 to x) (1000 choose k) * (0.05)^k * (0.95)^(1000-k)\n",
    "\n",
    "where (1000 choose k) is the binomial coefficient.\n",
    "\n",
    "Suppose we want to find the probability that there are less than or equal to 50 defective items in the batch.\n",
    "We can use the CDF to compute this probability:\n",
    "\n",
    "P(X ≤ 50) = CDF(50) = 0.044"
   ]
  },
  {
   "cell_type": "code",
   "execution_count": null,
   "id": "94128692",
   "metadata": {},
   "outputs": [],
   "source": [
    "Q3: What are some examples of situations where the normal distribution might be used as a model?\n",
    "Explain how the parameters of the normal distribution relate to the shape of the distribution.\n",
    "\n",
    "Ans) Some examples of situations where the normal distribution might be used as a model include:\n",
    "\n",
    "(i)The heights of a population\n",
    "(ii)The weights of a population\n",
    "(iii)The IQ scores of a population\n",
    "\n",
    "The normal distribution is characterized by two parameters: the mean (μ) and the standard deviation (σ). \n",
    "These parameters affect the shape and location of the distribution."
   ]
  },
  {
   "cell_type": "code",
   "execution_count": null,
   "id": "fe1f8100",
   "metadata": {},
   "outputs": [],
   "source": [
    "Q4: Explain the importance of Normal Distribution. Give a few real-life examples of Normal Distribution.\n",
    "\n",
    "Ans) The normal distribution, also known as the Gaussian distribution, is a probability distribution that is commonly used to\n",
    "model many natural and social phenomena. \n",
    "\n",
    "Here are some real-life examples of the normal distribution:\n",
    "\n",
    "(i) Heights of a population: The distribution of heights of a population often follows a normal distribution,\n",
    "with a mean around 5'7\" for adult males in the US.\n",
    "(ii) Test scores: The distribution of test scores for a large group of students often follows a normal distribution,\n",
    "with a mean around 50-70%.\n",
    "(iii) IQ scores: The distribution of IQ scores for a population often follows a normal distribution, with a mean of 100 and a\n",
    "    standard deviation of 15."
   ]
  },
  {
   "cell_type": "code",
   "execution_count": null,
   "id": "6e99619a",
   "metadata": {},
   "outputs": [],
   "source": [
    "Q5: What is Bernaulli Distribution? Give an Example. What is the difference between Bernoulli\n",
    "Distribution and Binomial Distribution?\n",
    "\n",
    "Ans) The Bernoulli distribution is a discrete probability distribution that models the outcome of a single Bernoulli trial,\n",
    "which is an experiment that has two possible outcomes, often denoted as success (S) or failure (F). The Bernoulli distribution\n",
    "is characterized by a single parameter, p, which represents the probability of success.\n",
    "\n",
    "An example of a Bernoulli trial is flipping a coin, where success is getting heads, and failure is getting tails. \n",
    "Another example is rolling a die and defining success as rolling a 6 and failure as rolling any other number.\n",
    "\n",
    "The main difference between the Bernoulli distribution and the binomial distribution is that the Bernoulli distribution \n",
    "models a single trial, while the binomial distribution models the number of successes in a fixed number of independent \n",
    "Bernoulli trials.\n",
    "\n",
    "The binomial distribution is a discrete probability distribution that models the number of successes in n independent \n",
    "Bernoulli trials, where each trial has the same probability of success p. The binomial distribution is characterized by \n",
    "two parameters, n and p."
   ]
  },
  {
   "cell_type": "code",
   "execution_count": null,
   "id": "23e55832",
   "metadata": {},
   "outputs": [],
   "source": [
    "Q6. Consider a dataset with a mean of 50 and a standard deviation of 10. If we assume that the dataset\n",
    "is normally distributed, what is the probability that a randomly selected observation will be greater\n",
    "than 60? Use the appropriate formula and show your calculations.\n",
    "\n",
    "Ans) Given the dataset has a mean (μ) of 50 and a standard deviation (σ) of 10, we can assume that the dataset is normally\n",
    "distributed.\n",
    "\n",
    "Let X be a random variable representing the observations from this dataset. Then, we need to find P(X > 60).\n",
    "\n",
    "Using the standard normal distribution, we can convert this into a z-score using the formula:\n",
    "\n",
    "z = (x - μ) / σ\n",
    "z = (60 - 50) / 10 = 1 \n",
    "\n",
    "P(Z > 1) ≈ 0.1587\n",
    "\n",
    "This means that the probability of selecting a random observation from the given dataset that is greater than 60 is\n",
    "approximately 0.1587 or 15.87%."
   ]
  },
  {
   "cell_type": "code",
   "execution_count": null,
   "id": "9421ab6a",
   "metadata": {},
   "outputs": [],
   "source": [
    "Q7: Explain uniform Distribution with an example.\n",
    "\n",
    "Ans) Uniform distribution is a continuous probability distribution where all values within a specified interval are equally\n",
    "likely to occur. This means that the probability density function (PDF) of a uniform distribution is constant over the interval\n",
    "and zero elsewhere.\n",
    "\n",
    "An example of uniform distribution is the rolling of a fair six-sided die. In this case, each of the six faces has an equal\n",
    "probability of showing up, and the probability of rolling any specific number is 1/6. \n",
    "\n",
    "The PDF of a uniform distribution with an interval [a, b] is given by:\n",
    "\n",
    "f(x) = 1 / (b-a) for a ≤ x ≤ b\n",
    "0 otherwise"
   ]
  },
  {
   "cell_type": "code",
   "execution_count": null,
   "id": "c7ffe98c",
   "metadata": {},
   "outputs": [],
   "source": [
    "Q8: What is the z score? State the importance of the z score.\n",
    "\n",
    "Ans) A z-score, also known as a standard score, is a measure of how many standard deviations an observation or data point is \n",
    "away from the mean of its distribution. It is calculated using the formula:\n",
    "\n",
    "z = (x - μ) / σ\n",
    "\n",
    "The z-score is also useful in hypothesis testing, where we can calculate the probability of observing a particular value or\n",
    "range of values using the z-score and the standard normal distribution. It is widely used in fields such as statistics,\n",
    "economics, social sciences, and engineering."
   ]
  },
  {
   "cell_type": "code",
   "execution_count": null,
   "id": "1085a17c",
   "metadata": {},
   "outputs": [],
   "source": [
    "Q9: What is Central Limit Theorem? State the significance of the Central Limit Theorem.\n",
    "\n",
    "Ans) The Central Limit Theorem is a statistical concept that states that the sampling distribution of the mean of any \n",
    "independent, random variables approaches a normal distribution as the sample size increases, regardless of the shape of the\n",
    "original population distribution.\n",
    "The significance of the Central Limit Theorem is that it allows us to make inferences about the population parameters based on \n",
    "the sample statistics. This is because the normal distribution has some important properties that make it easy to work with \n",
    "mathematically, such as the ability to calculate probabilities and confidence intervals."
   ]
  },
  {
   "cell_type": "code",
   "execution_count": null,
   "id": "f4508a65",
   "metadata": {},
   "outputs": [],
   "source": [
    "Q10: State the assumptions of the Central Limit Theorem.\n",
    "\n",
    "Ans) (i)Independence: The observations or data points in the sample should be independent of each other.\n",
    "\n",
    "(ii)Sample Size: The sample size should be sufficiently large. There is no fixed rule for determining the minimum sample size\n",
    "    required, but a general rule of thumb is that the sample size should be at least 30.\n",
    "\n",
    "(iii)Random Sampling: The sample should be selected randomly from the population, with each observation having an equal chance\n",
    "    of being selected.\n",
    "\n",
    "(iv)Finite Population: If the population is finite, the sample size should be less than 10% of the population size.\n",
    "\n",
    "(v)No Extreme Outliers: The population distribution should not have extreme outliers, which can skew the distribution and \n",
    "    affect the accuracy of the sample mean."
   ]
  }
 ],
 "metadata": {
  "kernelspec": {
   "display_name": "Python 3 (ipykernel)",
   "language": "python",
   "name": "python3"
  },
  "language_info": {
   "codemirror_mode": {
    "name": "ipython",
    "version": 3
   },
   "file_extension": ".py",
   "mimetype": "text/x-python",
   "name": "python",
   "nbconvert_exporter": "python",
   "pygments_lexer": "ipython3",
   "version": "3.8.12"
  }
 },
 "nbformat": 4,
 "nbformat_minor": 5
}

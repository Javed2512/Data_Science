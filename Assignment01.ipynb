{
 "cells": [
  {
   "cell_type": "code",
   "execution_count": null,
   "id": "16d1c543",
   "metadata": {},
   "outputs": [],
   "source": [
    "1. Who developed python programming language?\n",
    "Ans) Guido van Rossum began working on Python in the late 1980s as a successor to the ABC programming language and first\n",
    "released it in 1991 as Python 0.9.0"
   ]
  },
  {
   "cell_type": "code",
   "execution_count": null,
   "id": "07d4a928",
   "metadata": {},
   "outputs": [],
   "source": [
    "2. Which type of programming does python support?\n",
    "Ans) Python is an interpreted, interactive, object-oriented programming language that supports multiple programming paradigms\n",
    "beyond object-oriented programming, such as procedural and functional programming."
   ]
  },
  {
   "cell_type": "code",
   "execution_count": null,
   "id": "23cf80f2",
   "metadata": {},
   "outputs": [],
   "source": [
    "3. Is Python case sensitive when dealing with identifiers?\n",
    "Ans) Yes, Python is case-sensitive when dealing with identifiers. This means that uppercase and lowercase letters are\n",
    "considered different in Python's syntax."
   ]
  },
  {
   "cell_type": "code",
   "execution_count": null,
   "id": "96201a20",
   "metadata": {},
   "outputs": [],
   "source": [
    "4. What is the correct extension of the Python file?\n",
    "Ans) The standard and most commonly used extension for Python files is \".py\"."
   ]
  },
  {
   "cell_type": "code",
   "execution_count": null,
   "id": "a8364f20",
   "metadata": {},
   "outputs": [],
   "source": [
    "5. Is Python code complied or interpreted?\n",
    "Ans) Python is an interpreted language, which means that when you run Python code, the interpreter reads the code and executes\n",
    "it directly without first compiling it into machine code."
   ]
  },
  {
   "cell_type": "code",
   "execution_count": null,
   "id": "a6131805",
   "metadata": {},
   "outputs": [],
   "source": [
    "6. Name a few blocks of code used to define in Python Language?\n",
    "Ans) In Python, blocks of code are defined using indentation rather than enclosing them within curly braces or other symbols.\n",
    "This means that the indentation level of the code is significant and determines the scope of the block."
   ]
  },
  {
   "cell_type": "code",
   "execution_count": 1,
   "id": "3b8f92c1",
   "metadata": {
    "collapsed": true
   },
   "outputs": [
    {
     "name": "stdout",
     "output_type": "stream",
     "text": [
      "0\n",
      "1\n",
      "2\n",
      "3\n",
      "4\n",
      "5\n",
      "6\n",
      "7\n",
      "8\n",
      "9\n"
     ]
    }
   ],
   "source": [
    "# Here are a few examples of code blocks used in Python\n",
    "def my_function():\n",
    "    # Indented code block that defines the body of the function\n",
    "    print(\"Hello, World!\")\n",
    "    \n",
    "for i in range(10):\n",
    "    # Indented code block that is executed for each iteration of the loop\n",
    "    print(i)"
   ]
  },
  {
   "cell_type": "code",
   "execution_count": null,
   "id": "b3a15390",
   "metadata": {},
   "outputs": [],
   "source": [
    "7. State a character used to give single-line comments in python?\n",
    "Ans) In Python, the '#' character is used to indicate a single-line comment. When you use '#' in your code, everything after\n",
    "the '#' on that line is ignored by the interpreter and not executed as code. This is useful for adding comments to your code\n",
    "that explain what is happening or provide context for the code"
   ]
  },
  {
   "cell_type": "code",
   "execution_count": null,
   "id": "ce76db44",
   "metadata": {},
   "outputs": [],
   "source": [
    "8. Mention functions which can help us to find the version of python that we are currently working on?\n",
    "Ans) In Python, you can use various functions and modules to find the version of Python that you are currently working on.\n",
    "Here are some of the most common ones:"
   ]
  },
  {
   "cell_type": "code",
   "execution_count": 2,
   "id": "f10df1bf",
   "metadata": {},
   "outputs": [
    {
     "name": "stdout",
     "output_type": "stream",
     "text": [
      "3.8.12 (default, Oct 12 2021, 03:01:40) [MSC v.1916 64 bit (AMD64)]\n"
     ]
    }
   ],
   "source": [
    "import sys\n",
    "print(sys.version)"
   ]
  },
  {
   "cell_type": "code",
   "execution_count": 3,
   "id": "a9ad4af9",
   "metadata": {},
   "outputs": [
    {
     "name": "stdout",
     "output_type": "stream",
     "text": [
      "3.8.12\n"
     ]
    }
   ],
   "source": [
    "import platform\n",
    "print(platform.python_version())"
   ]
  },
  {
   "cell_type": "code",
   "execution_count": null,
   "id": "ab7c0e77",
   "metadata": {},
   "outputs": [],
   "source": [
    "9.Python supports the creation of anonymous function at runtime,using a construct called _________\n",
    "Ans) \"lambda\" functions."
   ]
  },
  {
   "cell_type": "code",
   "execution_count": null,
   "id": "bfeff101",
   "metadata": {},
   "outputs": [],
   "source": [
    "10. What does pip stand for in python?\n",
    "Ans) In Python, `pip` stands for \"pip installs packages\" or \"Pip Installs Python\"."
   ]
  },
  {
   "cell_type": "code",
   "execution_count": null,
   "id": "8a9ed9fa",
   "metadata": {},
   "outputs": [],
   "source": [
    "11. Mention a few built-in functions in python?\n",
    "Ans) print(): This function is used to output text or variables to the console or terminal.\n",
    "\n",
    "len(): This function is used to find the length of a string, list, tuple, or any other iterable.\n",
    "\n",
    "type(): This function is used to determine the type of a variable or value.\n",
    "\n",
    "input(): This function is used to accept user input from the console or terminal"
   ]
  },
  {
   "cell_type": "code",
   "execution_count": null,
   "id": "da68ad13",
   "metadata": {},
   "outputs": [],
   "source": [
    "12. What is the maximum possible length of an identifier in Python?\n",
    "Ans) In Python, the maximum possible length of an identifier (variable name, function name, class name, etc.) is not specified \n",
    "explicitly. However, PEP 8 style guide suggests that identifiers should not exceed 79 characters in length, and that you should \n",
    "strive to limit the length of identifiers to 79 characters or fewer."
   ]
  },
  {
   "cell_type": "code",
   "execution_count": null,
   "id": "435bb76c",
   "metadata": {},
   "outputs": [],
   "source": [
    "13. What are the benefits of using Python?\n",
    "Ans) (i) Simple and Easy to Learn\n",
    "(ii) Open Source\n",
    "(iii)Large Standard Library\n",
    "(iv) Cross-Platform Compatibility\n",
    "(v)  Versatility\n",
    "(vi) Productivity and Efficiency"
   ]
  },
  {
   "cell_type": "code",
   "execution_count": null,
   "id": "dc9c371a",
   "metadata": {},
   "outputs": [],
   "source": [
    "14. How is memory managed in Python?\n",
    "Ans) Memory management in Python is handled automatically through a mechanism called \"garbage collection\". The Python \n",
    "interpreter automatically manages memory allocation and deallocation for objects, so programmers do not need to worry about\n",
    "manually managing memory allocation."
   ]
  },
  {
   "cell_type": "code",
   "execution_count": null,
   "id": "f9777c6d",
   "metadata": {},
   "outputs": [],
   "source": [
    "15. How to install Python on Windows and set path variables?\n",
    "Ans) To install Python on Windows and set path variables, follow these steps:\n",
    "\n",
    "1)Go to the official Python website and download the latest version of Python for Windows.\n",
    "\n",
    "2)Run the installer and choose \"Customize installation\" option.\n",
    "\n",
    "3)In the \"Optional Features\" screen, select all the features you want to install.\n",
    "\n",
    "4)In the \"Advanced Options\" screen, select \"Add Python to environment variables\" and then click on the \"Next\" button.\n",
    "\n",
    "5)Choose an installation directory and click on the \"Install\" button.\n",
    "\n",
    "6)Once the installation is complete, open the Start menu and type \"env\" in the search bar.\n",
    "\n",
    "7)Click on \"Edit the system environment variables\".\n",
    "\n",
    "8)In the \"System Properties\" window, click on the \"Environment Variables\" button.\n",
    "\n",
    "9)Under \"System variables\", scroll down and find \"Path\".\n",
    "\n",
    "10)Click on the \"Edit\" button and then click on the \"New\" button.\n",
    "\n",
    "11)ype in the path to your Python installation directory. For example, if you installed Python in \"C:\\Python\\Python38\", then add \"C:\\Python\\Python38\" to the \"Path\" variable.\n",
    "\n",
    "12)Click on \"OK\" to save the changes.\n",
    "\n",
    "13)Close all the windows and restart your computer to make sure the changes take effect.\n",
    "\n",
    "14)Open the Command Prompt and type \"python\" to check if Python is installed and configured correctly. If you see the Python version number, then Python is installed correctly."
   ]
  },
  {
   "cell_type": "code",
   "execution_count": null,
   "id": "1c2692b3",
   "metadata": {},
   "outputs": [],
   "source": [
    "16. Is indentation required in python?\n",
    "Ans) Yes, indentation is required in Python.\n",
    "Indentation is used to group together statements that are executed together, such as those in a loop, function, or \n",
    "conditional statement. "
   ]
  }
 ],
 "metadata": {
  "kernelspec": {
   "display_name": "Python 3 (ipykernel)",
   "language": "python",
   "name": "python3"
  },
  "language_info": {
   "codemirror_mode": {
    "name": "ipython",
    "version": 3
   },
   "file_extension": ".py",
   "mimetype": "text/x-python",
   "name": "python",
   "nbconvert_exporter": "python",
   "pygments_lexer": "ipython3",
   "version": "3.8.12"
  }
 },
 "nbformat": 4,
 "nbformat_minor": 5
}

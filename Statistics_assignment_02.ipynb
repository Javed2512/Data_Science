{
 "cells": [
  {
   "cell_type": "code",
   "execution_count": null,
   "id": "3f6fd8b6",
   "metadata": {},
   "outputs": [],
   "source": [
    "Q1. What are the three measures of central tendency?\n",
    "\n",
    "Ans) Three measures of central tendency are Mean, Median,Mode"
   ]
  },
  {
   "cell_type": "code",
   "execution_count": null,
   "id": "d13dd4b4",
   "metadata": {},
   "outputs": [],
   "source": [
    "Q2. What is the difference between the mean, median, and mode? How are they used to measure the\n",
    "central tendency of a dataset?\n",
    "\n",
    "Ans) Mean:- The mean is the arithmetic average of a set of numbers.\n",
    "            Mean is sensitive towards Outliers.\n",
    "    formula:  Mean = (sum of all data points) /( no. of  data points)\n",
    "    \n",
    "    Median:- Median is the middle value of the given set of data when arranged in an order.\n",
    "             Median is robust towards Outliers.\n",
    "    formula: Median for odd data =  [(n + 1)/2]th term\n",
    "             Median for even data =  [(n/2)th term + ((n/2) + 1)th term]/2\n",
    "             \n",
    "    Mode:- The mode is the value that appears most frequently in a dataset.\n",
    "    \n",
    "    \n",
    "The mean is the most commonly used measure of central tendency, especially for symmetrically distributed data.\n",
    "The median is used when there are outliers or when the data is skewed.\n",
    "The mode is useful for nominal or categorical data, or when the most common value is of interest.            "
   ]
  },
  {
   "cell_type": "code",
   "execution_count": null,
   "id": "32df2d84",
   "metadata": {},
   "outputs": [],
   "source": [
    "Q3. Measure the three measures of central tendency for the given height data:\n",
    "[178,177,176,177,178.2,178,175,179,180,175,178.9,176.2,177,172.5,178,176.5]\n",
    "\n",
    "Ans) Mean:- \n",
    "        178+177+176+177+178.2+178+175+179+180+175+178.9+176.2+177+172.5+178+176.5 = 2832.3\n",
    "        \n",
    "        (Sum of all Observation)/(No. of Observation) = 2832.3/16 = 168.02\n",
    "        \n",
    "        Therefore, the mean height is approximately 168.02 cm.\n",
    "    \n",
    "    Median:-\n",
    "         first we have to arrange data points in an order.Therefore\n",
    "         172.5, 175, 175, 176, 176.2, 176.5, 177, 177, 177,178, 178, 178, 178.2, 178.9, 179, 180\n",
    "         \n",
    "         Median = (177 + 177) / 2 = 177.0\n",
    "\n",
    "         Therefore, the median height is approximately 177.00 cm.\n",
    "    \n",
    "    Mode:-\n",
    "         MOde is 177"
   ]
  },
  {
   "cell_type": "code",
   "execution_count": null,
   "id": "bfc99a82",
   "metadata": {},
   "outputs": [],
   "source": [
    "Q4. Find the standard deviation for the given data:\n",
    "[178,177,176,177,178.2,178,175,179,180,175,178.9,176.2,177,172.5,178,176.5]\n",
    "\n",
    "Ans) variance = 3.19902\n",
    "     standard deviation = √ variance\n",
    "                         = 1.78858"
   ]
  },
  {
   "cell_type": "code",
   "execution_count": null,
   "id": "1f43cb0f",
   "metadata": {},
   "outputs": [],
   "source": [
    "Q5. How are measures of dispersion such as range, variance, and standard deviation used to describe\n",
    "the spread of a dataset? Provide an example.\n",
    "\n",
    "Ans) Measures of dispersion are used to provide information about the spread or variability of a dataset. They can be used to compare the variability of different datasets, to identify outliers or extreme values, or to assess the precision of a measurement\n",
    "\n",
    "For example, if we have the same dataset of test scores and the mean is 80, the variance would be:\n",
    "\n",
    "((70 - 80)^2 + (75 - 80)^2 + (80 - 80)^2 + (85 - 80)^2 + (90 - 80)^2) / 5 = 100\n",
    "\n",
    "The standard deviation is the square root of the variance and is a commonly used measure of dispersion.\n",
    "It measures how much the values in a dataset deviate from the mean. In the same example dataset, the standard deviation would be:\n",
    "\n",
    "sqrt(100) = 10\n",
    "\n",
    "This means that the test scores are spread out around the mean by an average of 10 points.\n"
   ]
  },
  {
   "cell_type": "code",
   "execution_count": null,
   "id": "7d7642d0",
   "metadata": {},
   "outputs": [],
   "source": [
    "Q6. What is a Venn diagram?\n",
    "\n",
    "Ans) Venn diagrams are used to illustrate set theory concepts such as union, intersection, complement, and subset relationships. They are often used in mathematics, statistics, logic, and other fields to help visualize and analyze relationships between different sets of data"
   ]
  },
  {
   "cell_type": "code",
   "execution_count": null,
   "id": "a652e2bc",
   "metadata": {},
   "outputs": [],
   "source": [
    "Q7. For the two given sets A = (2,3,4,5,6,7) & B = (0,2,6,8,10). Find:\n",
    "(i) A intersection B\n",
    "(ii) A ⋃ B\n",
    "\n",
    "Ans) (i) A intersection B = (2,6)\n",
    "     (ii) A union B = (0,2,3,4,5,6,7,8,10)"
   ]
  },
  {
   "cell_type": "code",
   "execution_count": null,
   "id": "8dd76c65",
   "metadata": {},
   "outputs": [],
   "source": [
    "Q8. What do you understand about skewness in data?\n",
    "\n",
    "Ans) Skewness is a statistical measure that describes the degree of asymmetry in a distribution of data.Skewness can be either positive or negative. A positive skewness means that the tail of the distribution is longer on the right side than on the left, indicating that there are more extreme values on the right side of the distribution. A negative skewness means that the tail of the distribution is longer on the left side than on the right, indicating that there are more extreme values on the left side of the distribution"
   ]
  },
  {
   "cell_type": "code",
   "execution_count": null,
   "id": "54ea1014",
   "metadata": {},
   "outputs": [],
   "source": [
    "Q9. If a data is right skewed then what will be the position of median with respect to mean?\n",
    "\n",
    "Ans) Ifa data is right skewed, then the median will be less than the mean."
   ]
  },
  {
   "cell_type": "code",
   "execution_count": null,
   "id": "45e25c94",
   "metadata": {},
   "outputs": [],
   "source": [
    "Q10. Explain the difference between covariance and correlation. How are these measures used in\n",
    "statistical analysis?\n",
    "\n",
    "Ans) Covariance measures the extent to which two variables vary together. It is a measure of the joint variability of two \n",
    "random variables. A positive covariance means that when one variable is above its mean, the other variable tends to be above\n",
    "its mean as well, and vice versa for negative covariance. However, the covariance doesn't tell us about the strength of the \n",
    "relationship between the two variables. It can take any value from negative infinity to positive infinity.\n",
    "\n",
    "Correlation, on the other hand, measures the strength of the linear relationship between two variables. \n",
    "Correlation is a standardized version of covariance that is restricted to the range of -1 to 1.\n",
    "A correlation of +1 indicates a perfect positive relationship, a correlation of -1 indicates a perfect negative relationship,\n",
    "and a correlation of 0 indicates no linear relationship between the two variables.\n",
    "\n",
    "Both covariance and correlation are used in statistical analysis to understand the relationship between two variables.\n",
    "However, correlation is a more commonly used measure than covariance because it is more interpretable and is not affected by\n",
    "the scale of the variables. Correlation is also useful in identifying whether there is a strong relationship between the two\n",
    "variables, and can be used to make predictions and estimate the strength of the relationship between two variables. \n",
    "Covariance, on the other hand, is useful in determining the direction of the relationship between two variables,\n",
    "but it doesn't provide a clear understanding of the strength of the relationship."
   ]
  },
  {
   "cell_type": "code",
   "execution_count": null,
   "id": "dc8e0758",
   "metadata": {},
   "outputs": [],
   "source": [
    "Q11. What is the formula for calculating the sample mean? Provide an example calculation for a\n",
    "dataset.\n",
    "\n",
    "Ans)  The formula for calculating the sample mean (x̄) is:\n",
    "\n",
    "x̄ = (sum of all values in the sample) / (number of values in the sample)\n",
    "\n",
    "Here is an example calculation for a dataset:\n",
    "\n",
    "Consider the following dataset:\n",
    "\n",
    "{4, 7, 9, 12, 13}\n",
    "\n",
    "To find the sample mean, we need to add up all the values in the dataset and divide by the number of values:\n",
    "\n",
    "x̄ = (4 + 7 + 9 + 12 + 13) / 5\n",
    "\n",
    "x̄ = 45 / 5\n",
    "\n",
    "x̄ = 9\n",
    "\n",
    "Therefore, the sample mean for this dataset is 9."
   ]
  },
  {
   "cell_type": "code",
   "execution_count": null,
   "id": "d2881a71",
   "metadata": {},
   "outputs": [],
   "source": [
    "Q12. For a normal distribution data what is the relationship between its measure of central tendency?\n",
    "\n",
    "Ans) For a normal distribution data, the mean, median, and mode are equal. \n",
    "This is because a normal distribution is symmetric, meaning that the data is evenly distributed around the central value."
   ]
  },
  {
   "cell_type": "code",
   "execution_count": null,
   "id": "1c868142",
   "metadata": {},
   "outputs": [],
   "source": [
    "Q13. How is covariance different from correlation?\n",
    "\n",
    "Ans) Covariance measures the extent to which two variables vary together.\n",
    "It is a measure of the joint variability of two random variables.\n",
    "A positive covariance means that when one variable is above its mean,\n",
    "the other variable tends to be above its mean as well, and vice versa for negative covariance.\n",
    "However, the covariance doesn't tell us about the strength of the relationship between the two variables.\n",
    "It can take any value from negative infinity to positive infinity.\n",
    "\n",
    "Correlation, on the other hand, measures the strength of the linear relationship between two variables.\n",
    "Correlation is a standardized version of covariance that is restricted to the range of -1 to 1. A correlation of +1 indicates\n",
    "a perfect positive relationship, a correlation of -1 indicates a perfect negative relationship, and a correlation of 0 indicates\n",
    "no linear relationship between the two variables."
   ]
  },
  {
   "cell_type": "code",
   "execution_count": null,
   "id": "67e83b6e",
   "metadata": {},
   "outputs": [],
   "source": [
    "Q14. How do outliers affect measures of central tendency and dispersion? Provide an example.\n",
    "\n",
    "Ans) Outliers are extreme values that lie far away from the other values in a dataset. They can have a significant impact on \n",
    "measures of central tendency and dispersion.\n",
    "\n",
    "Measures of Central Tendency:\n",
    "Outliers can greatly affect the measures of central tendency such as the mean, median, and mode. The mean is especially\n",
    "sensitive to outliers because it is calculated by adding up all the values in the dataset and dividing by the number of values.\n",
    "If there are extreme values in the dataset, they will pull the mean in their direction, making it an inaccurate representation\n",
    "of the central tendency. In contrast, the median and mode are less affected by outliers because they only consider the middle\n",
    "value or the most frequently occurring value in the dataset.\n",
    "\n",
    "For example, consider the following dataset:\n",
    "\n",
    "{1, 2, 3, 4, 5, 6, 7, 8, 9, 10, 100}\n",
    "\n",
    "The mean of this dataset is:\n",
    "(1+2+3+4+5+6+7+8+9+10+100) / 11 = 19.1\n",
    "\n",
    "As you can see, the mean is heavily influenced by the outlier value of 100.\n",
    "\n",
    "The median of this dataset is 5, which is not affected by the outlier.\n",
    "\n",
    "The mode of this dataset is not applicable since there are no repeating values.\n",
    "\n",
    "Measures of Dispersion:\n",
    "Outliers can also affect the measures of dispersion such as the range and standard deviation. The range is the difference \n",
    "between the highest and lowest values in the dataset, and it can be greatly affected by outliers that lie far away from the\n",
    "rest of the values. Similarly, the standard deviation, which measures the spread of the data around the mean, can be influenced \n",
    "by outliers, particularly if they are far from the mean.\n",
    "\n",
    "For example, consider the following dataset:\n",
    "\n",
    "{1, 2, 3, 4, 5, 6, 7, 8, 9, 10, 100}\n",
    "\n",
    "The range of this dataset is 99, which is heavily influenced by the outlier value of 100.\n",
    "\n",
    "The standard deviation of this dataset is approximately 30.5, which is also influenced by the outlier value of 100."
   ]
  }
 ],
 "metadata": {
  "kernelspec": {
   "display_name": "Python 3 (ipykernel)",
   "language": "python",
   "name": "python3"
  },
  "language_info": {
   "codemirror_mode": {
    "name": "ipython",
    "version": 3
   },
   "file_extension": ".py",
   "mimetype": "text/x-python",
   "name": "python",
   "nbconvert_exporter": "python",
   "pygments_lexer": "ipython3",
   "version": "3.8.12"
  }
 },
 "nbformat": 4,
 "nbformat_minor": 5
}

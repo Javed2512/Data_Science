{
 "cells": [
  {
   "cell_type": "code",
   "execution_count": null,
   "id": "7f936d5b",
   "metadata": {},
   "outputs": [],
   "source": [
    "Q1) What is Statistics?\n",
    "Ans) Statistics is a branch of mathematics that deals with the study of collecting, analyzing,\n",
    "interpreting, presenting, and organizing data in a particular manner. Statistics is defined as the\n",
    "process of collection of data, classifying data, representing the data for easy interpretation, and further analysis of data."
   ]
  },
  {
   "cell_type": "code",
   "execution_count": null,
   "id": "680fc394",
   "metadata": {},
   "outputs": [],
   "source": [
    "Q2) Define different type of Statistics and give example of when each type might be used?\n",
    "Ans) There are two types of Statistics:\n",
    "(I) Descriptive statistics:\n",
    "Descriptive statistics is a branch of statistics that deals with the summarization, presentation, and analysis of data.\n",
    "The goal of descriptive statistics is to describe the data and its properties using numerical measures and graphs.\n",
    "For example, a marketing company may use descriptive statistics to analyze the sales data of a particular product to determine\n",
    "the mean, median, mode, range, and standard deviation of the sales.\n",
    "\n",
    "(II) Inferential statistics:\n",
    "Inferential statistics is a branch of statistics that deals with making predictions and drawing conclusions about a population\n",
    "based on a sample.The goal of inferential statistics is to generalize the results obtained from the sample to the larger\n",
    "population.\n",
    "For example, a political exitpoll may use inferential statistics to predict the outcome of an election by surveying a sample \n",
    "of voters."
   ]
  },
  {
   "cell_type": "code",
   "execution_count": null,
   "id": "16351197",
   "metadata": {},
   "outputs": [],
   "source": [
    "Q3) What are the different types of data and how do they differ from each other? Provide an example of\n",
    "each type of data?\n",
    "Ans) There are four main types of data:\n",
    "\n",
    "(I) Nominal data: Nominal data is a type of categorical data that consists of variables that have no order or numerical value. \n",
    "    Examples of nominal data include gender (male/female), color (blue/green/brown), and blood group(O+/O-/A+/A-/B+/B-)etc.\n",
    "\n",
    "(II) Ordinal data: Ordinal data is a type of categorical data that consists of variables that have a natural order or ranking\n",
    "    matters. Examples of ordinal data include education level (high school diploma, bachelor's degree, master's degree, etc.),\n",
    "    course ratings (1 star, 2 stars, 3 stars, etc.).\n",
    "\n",
    "(III) Interval data: Interval data is a type of quantitative data that consists of variables that have a numerical value and \n",
    "    difference can be measured(excluding Ratio), but no true zero point. Examples of interval data include temperature\n",
    "    (in Celsius or Fahrenheit), and IQ scores.\n",
    "\n",
    "(IV) Ratio data: Ratio data is a type of quantitative data that consists of variables that have a numerical value,\n",
    "    difference are measurable(including Ratio), and a true zero point. Examples of ratio data include weight\n",
    "    (in kilograms or pounds), height (in centimeters or feet), and age (in years)."
   ]
  },
  {
   "cell_type": "code",
   "execution_count": null,
   "id": "c832b3df",
   "metadata": {},
   "outputs": [],
   "source": [
    "Q4. Categorise the following datasets with respect to quantitative and qualitative data types:\n",
    "(i) Grading in exam: A+, A, B+, B, C+, C, D, E\n",
    "(ii) Colour of mangoes: yellow, green, orange, red\n",
    "(iii) Height data of a class: [178.9, 179, 179.5, 176, 177.2, 178.3, 175.8,...]\n",
    "(iv) Number of mangoes exported by a farm: [500, 600, 478, 672, ...]\n",
    "\n",
    "Ans) (i) Qualiltative (Ordinal) data\n",
    "(ii) Qualiltative(Nominal) data\n",
    "(iii)Quantitative(Continuous) data\n",
    "(iv) Quantitative(Discrete) data"
   ]
  },
  {
   "cell_type": "code",
   "execution_count": null,
   "id": "70560aa4",
   "metadata": {},
   "outputs": [],
   "source": [
    "  Q5. Explain the concept of levels of measurement and give an example of a variable for each level.\n",
    "\n",
    "Ans)Nominal level: Nominal level variables are characterized by the absence of any numerical or quantitative relationships \n",
    "between categories.They are categorical variables that cannot be ranked or ordered.\n",
    "Examples of nominal variables include gender (male, female) or marital status (married, single, divorced).\n",
    "\n",
    "Ordinal level: Ordinal level variables have categories that can be ordered or ranked but there is no standardized\n",
    "difference or equal intervals between categories. \n",
    "For example, a student's grade in a class could be categorized as A, B, C, D, or F. Here, the grades can be ordered in a \n",
    "meaningful way, but the difference between the grades is not standardized or equal.\n",
    "\n",
    "Interval level: Interval level variables have categories that can be ordered or ranked and have equal intervals between them,\n",
    "    but there is no true zero point.\n",
    "Examples of interval variables include temperature measured in Celsius or Fahrenheit scales.\n",
    "\n",
    "Ratio level: Ratio level variables have categories that can be ordered or ranked and have equal intervals between them,\n",
    "and there is a true zero point. \n",
    "Examples of ratio variables include height, weight, income, or age."
   ]
  },
  {
   "cell_type": "code",
   "execution_count": null,
   "id": "05b0af25",
   "metadata": {},
   "outputs": [],
   "source": [
    "Q6. Why is it important to understand the level of measurement when analyzing data? Provide an example to illustrate your answer.\n",
    "\n",
    "Ans)understanding the level of measurement is crucial in choosing the appropriate statistical techniques and drawing\n",
    "meaningful conclusions from the data.\n",
    "Example is gender. Gender is a nominal variable because it does not have any order, and it cannot be measured using \n",
    "numerical values. This means that statistical analyses such as regression that require numerical values are not appropriate\n",
    "for analyzing gender."
   ]
  },
  {
   "cell_type": "code",
   "execution_count": null,
   "id": "029c89fa",
   "metadata": {},
   "outputs": [],
   "source": [
    "Q7. How nominal data type is different from ordinal data type.\n",
    "\n",
    "Ans)Difference between nominal and ordinal data is that nominal data is categorical data with no intrinsic order, \n",
    "while ordinal data is categorical data with a natural order or ranking between the categories.\n",
    "Nominal Data example is Gender,Colors,Labels etc.\n",
    "Ordinal Data example is Customer feedback(Best/Good/Bad),Education(PG/UG/10+2/10)etc."
   ]
  },
  {
   "cell_type": "code",
   "execution_count": null,
   "id": "6eb690ee",
   "metadata": {},
   "outputs": [],
   "source": [
    "Q8. Which type of plot can be used to display data in terms of range?\n",
    "\n",
    "Ans)The box plot is a useful plot for displaying data in terms of range, providing a visual summary \n",
    "of the data's central tendency, spread, and outliers."
   ]
  },
  {
   "cell_type": "code",
   "execution_count": null,
   "id": "6763249f",
   "metadata": {},
   "outputs": [],
   "source": [
    "Q9. Describe the difference between descriptive and inferential statistics. Give an example of each\n",
    "type of statistics and explain how they are used.\n",
    "\n",
    "Ans)Descriptive statistics refers to the statistical methods used to summarize and describe the characteristics of a dataset.\n",
    "It involves calculating and presenting summary measures such as measures of central tendency (mean, median, mode) and measures\n",
    "of variability (range, standard deviation, variance). Descriptive statistics are useful for providing an overview of the dataset\n",
    "and identifying patterns and trends in the data.\n",
    "For example, suppose we collect data on the heights of 100 students in a class. We can use descriptive statistics to calculate\n",
    "the mean height, the standard deviation of height, and the range of height values in the dataset. These descriptive statistics\n",
    "provide an overview of the distribution of heights and help us understand the central tendency and variability of the data.\n",
    "\n",
    "Inferential statistics, on the other hand, refers to the statistical methods used to draw conclusions or make predictions about\n",
    "a population based on a sample of data. Inferential statistics involve making inferences about the population \n",
    "parameters (e.g., mean, variance, proportion) based on the sample statistics (e.g., mean, standard deviation, proportion).\n",
    "Inferential statistics are useful for testing hypotheses, making predictions, and generalizing the findings from a sample\n",
    "to the larger population.\n",
    "For example, suppose we want to know whether the average height of students in a class is different from the average height \n",
    "of students in the whole school. We can use inferential statistics to test the hypothesis that there is a significant \n",
    "difference between the means of the two groups. We can use a t-test to determine whether the difference between the means \n",
    "is statistically significant or due to chance."
   ]
  },
  {
   "cell_type": "code",
   "execution_count": null,
   "id": "7956c53d",
   "metadata": {},
   "outputs": [],
   "source": [
    "Q10. What are some common measures of central tendency and variability used in statistics? Explain\n",
    "how each measure can be used to describe a dataset.\n",
    "Ans)The mean is the sum of all the values in a dataset divided by the total number of values. The mean is sensitive to extreme\n",
    "values, so it may not accurately represent the center of the data if the dataset contains outliers. The mean is useful for data \n",
    "that is normally distributed or has a symmetrical distribution.\n",
    "\n",
    "The median is the middle value of a dataset when it is arranged in order. The median is less sensitive to outliers than the mean,\n",
    "and it is useful for data with a skewed distribution. The median is often used for ordinal data or continuous data that cannot\n",
    "be measured precisely.\n",
    "\n",
    "The mode is the most frequently occurring value in a dataset. The mode is useful for data with a discrete distribution, and it\n",
    "is often used for nominal data.\n",
    "\n",
    "Measures of variability describe the spread or dispersion of the data. The two most commonly used measures of variability are\n",
    "the range and the standard deviation.\n",
    "\n",
    "The range is the difference between the maximum and minimum values in a dataset. The range provides a rough estimate of the\n",
    "dispersion of the data, but it is sensitive to outliers.\n",
    "\n",
    "The standard deviation is a measure of the amount of variation or dispersion in a dataset. It measures how far the data is \n",
    "from the mean. A low standard deviation indicates that the data is clustered around the mean, while a high standard deviation\n",
    "indicates that the data is more spread out. The standard deviation is useful for data with a normal distribution."
   ]
  }
 ],
 "metadata": {
  "kernelspec": {
   "display_name": "Python 3 (ipykernel)",
   "language": "python",
   "name": "python3"
  },
  "language_info": {
   "codemirror_mode": {
    "name": "ipython",
    "version": 3
   },
   "file_extension": ".py",
   "mimetype": "text/x-python",
   "name": "python",
   "nbconvert_exporter": "python",
   "pygments_lexer": "ipython3",
   "version": "3.8.12"
  }
 },
 "nbformat": 4,
 "nbformat_minor": 5
}

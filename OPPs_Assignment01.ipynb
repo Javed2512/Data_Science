{
 "cells": [
  {
   "cell_type": "code",
   "execution_count": null,
   "id": "9fd7cb6a",
   "metadata": {},
   "outputs": [],
   "source": [
    "Q1.Explain Class and Object with respect to Object-Oriented Programming. Give a suitable example.\n",
    "Ans> Object:-\n",
    "            The object is an entity that has a state and a behavior associated with it. It may be any real-world object like\n",
    "    the mouse, keyboard, chair, table, pen, etc. Integers, strings, floating-point numbers, even arrays and dictionaries,\n",
    "    are all objects. More specifically, any single integer or any single string is an object. The number 12 is an object,\n",
    "    the string \"Hello, world\" is an object, a list is an object that can hold other objects, and so on.\n",
    "    \n",
    "    Class:-\n",
    "            A class is a blueprint that defines the variables and the methods (Characteristics) common to all objects of a \n",
    "    certain kind.\n",
    "    \n",
    "    Example:- \n",
    "            If Car is a class, then Maruti 800 is an object of the Car class. All cars share similar features like 4 wheels,\n",
    "    1 steering wheel, windows, breaks etc. Maruti 800 (The Car object) has all these features."
   ]
  },
  {
   "cell_type": "code",
   "execution_count": null,
   "id": "64d6c48a",
   "metadata": {},
   "outputs": [],
   "source": [
    "Q2. Name the four pillars of OOPs.\n",
    "Ans> 1.Inheritance\n",
    "     2.Polymorphism\n",
    "     3.Encapsulation\n",
    "     4.Abstraction   "
   ]
  },
  {
   "cell_type": "code",
   "execution_count": null,
   "id": "0f9063e1",
   "metadata": {},
   "outputs": [],
   "source": [
    "Q3. Explain why the __init__() function is used. Give a suitable example.\n",
    "Ans> ->Constructors are generally used for instantiating an object.\n",
    "     ->The task of a constructor is to initialize(assign values) to the data members of the class when an object of the class\n",
    "       is created.\n",
    "     ->In Python, the .__init__() method is called the constructor and is always called when an object is created.\n",
    "\n",
    "Example:-        \n",
    "class Car:\n",
    "    def __init__(self, name, topSpeed):\n",
    "        self.name = name\n",
    "        self.topSpeed= topSpeed"
   ]
  },
  {
   "cell_type": "code",
   "execution_count": null,
   "id": "33a0f39d",
   "metadata": {},
   "outputs": [],
   "source": [
    "Q4. Why self is used in OOPs?\n",
    "Ans>  (i) The self parameter is a reference to the current instance of the class and is used to access variables that belong\n",
    "        to the class.\n",
    "      (ii) It does not have to be named self, we can call it whatever we like, but it has to be the first parameter of any \n",
    "        function in the class.\n",
    "\n",
    "def __init__(self):\n",
    " # body of the constructor\n",
    "We can give .__init__() any number of parameters, but the first parameter will always be a variable called self."
   ]
  },
  {
   "cell_type": "code",
   "execution_count": null,
   "id": "af26bc33",
   "metadata": {},
   "outputs": [],
   "source": [
    "Q5. What is inheritance? Give an example for each type of inheritance.\n",
    "Ans>\n",
    "    Inheritance\n",
    "    ● Inheritance is a powerful feature in Object-Oriented Programming.\n",
    "    ● Inheritance can be defined as the process where one class acquires the properties (methods and fields) of another.\n",
    "      With the use of inheritance, the information is made manageable in a hierarchical order.\n",
    "    ● The class which inherits the properties of the other is known as subclass (derived class or child class) and the class \n",
    "      whose properties are inherited is known as superclass (base class, parent class).\n",
    "    \n",
    "(i)Multiple Inheritance\n",
    "    ● A class can be inherited from more than one superclass in Python, similar to C++. This is called multiple inheritance.\n",
    "    ● In multiple inheritance, the features of all the superclasses are inherited into the subclass. The syntax for multiple\n",
    "      inheritance is similar to single inheritance.\n",
    "An Example-\n",
    "\n",
    "class SuperClass1:\n",
    "     pass\n",
    "class SuperClass2:\n",
    "     pass\n",
    "class SubClass(SuperClass1, SuperClass2):\n",
    "     pass\n",
    "Here, the SubClass class is derived from SuperClass1 and SuperClass2 classes and it has access to all the instance \n",
    "attributes and methods from both these superclasses.\n",
    "\n",
    "    \n",
    "    \n",
    "(ii)Multilevel Inheritance\n",
    "We can also inherit from a derived class. This is called multilevel inheritance. It can be of any depth in Python.\n",
    "An example - \n",
    "\n",
    "class SuperClass:\n",
    "     pass\n",
    "class SubClass(SuperClass):\n",
    "     pass\n",
    "class SubSubClass(SubClass):\n",
    "     pass\n",
    "Here, SubClass is derived from SuperClass, and SubSubClass is derived from SubClass.\n",
    "\n",
    "\n",
    "(iii)Multilevel Inheritance\n",
    "We can also inherit from a derived class. This is called multilevel inheritance. It can be of any depth in Python.\n",
    "An example -\n",
    "\n",
    "class SuperClass:\n",
    "     pass\n",
    "class SubClass(SuperClass):\n",
    "     pass\n",
    "class SubSubClass(SubClass):\n",
    "     pass\n",
    "Here, SubClass is derived from SuperClass, and SubSubClass is derived from\n",
    "SubClass."
   ]
  },
  {
   "cell_type": "code",
   "execution_count": null,
   "id": "d714f9a0",
   "metadata": {},
   "outputs": [],
   "source": []
  },
  {
   "cell_type": "code",
   "execution_count": null,
   "id": "8ea01286",
   "metadata": {},
   "outputs": [],
   "source": []
  },
  {
   "cell_type": "code",
   "execution_count": null,
   "id": "cd3f0348",
   "metadata": {},
   "outputs": [],
   "source": []
  }
 ],
 "metadata": {
  "kernelspec": {
   "display_name": "Python 3 (ipykernel)",
   "language": "python",
   "name": "python3"
  },
  "language_info": {
   "codemirror_mode": {
    "name": "ipython",
    "version": 3
   },
   "file_extension": ".py",
   "mimetype": "text/x-python",
   "name": "python",
   "nbconvert_exporter": "python",
   "pygments_lexer": "ipython3",
   "version": "3.8.12"
  }
 },
 "nbformat": 4,
 "nbformat_minor": 5
}
